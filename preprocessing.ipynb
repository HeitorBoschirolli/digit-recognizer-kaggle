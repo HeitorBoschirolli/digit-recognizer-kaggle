{
 "cells": [
  {
   "cell_type": "code",
   "execution_count": 1,
   "metadata": {
    "collapsed": true
   },
   "outputs": [],
   "source": [
    "import pandas as pd\n",
    "import numpy as np\n",
    "from skimage.color import grey2rgb\n",
    "from skimage.transform import resize\n",
    "from random import randint\n",
    "import matplotlib.pyplot as plt\n",
    "from sklearn.model_selection import train_test_split\n",
    "%matplotlib inline"
   ]
  },
  {
   "cell_type": "code",
   "execution_count": 2,
   "metadata": {
    "collapsed": true
   },
   "outputs": [],
   "source": [
    "# def preprocess (images, dim=(224, 224)):\n",
    "#     images = images.astype('float32')/255\n",
    "    \n",
    "#     new_images = np.empty((images.shape[0], dim[0], dim[1]))\n",
    "#     for i in range(images.shape[0]):\n",
    "#         if (i % 1000 == 0):\n",
    "#             print 'image ' + str(i) + ' out of ' + str(images.shape[0])\n",
    "#         new_images[i] = resize(images[i], dim)\n",
    "\n",
    "#     del(images)\n",
    "#     return grey2rgb(new_images)"
   ]
  },
  {
   "cell_type": "code",
   "execution_count": 3,
   "metadata": {
    "collapsed": true
   },
   "outputs": [],
   "source": [
    "# df = pd.read_csv('train.csv')\n",
    "\n",
    "# X_train = df.drop('label', axis=1).values\n",
    "# X_train = X_train.reshape(-1, 28, 28)\n",
    "# Y_train = df['label'].values\n",
    "\n",
    "# X_train_1 = preprocess(X_train[:21000])\n",
    "# np.save('X_train_1.npy', X_train_1)\n",
    "# del(X_train_1)"
   ]
  },
  {
   "cell_type": "code",
   "execution_count": 4,
   "metadata": {
    "collapsed": true
   },
   "outputs": [],
   "source": [
    "df = pd.read_csv('train.csv')\n",
    "\n",
    "X_train = df.drop('label', axis=1).values\n",
    "X_train = X_train.reshape(-1, 28, 28)\n",
    "Y_train = df['label'].values\n",
    "\n",
    "df = pd.read_csv('test.csv')\n",
    "X_test = df.values\n",
    "X_test = X_test.reshape(-1, 28, 28)"
   ]
  },
  {
   "cell_type": "code",
   "execution_count": 5,
   "metadata": {
    "collapsed": true
   },
   "outputs": [],
   "source": [
    "X_train = X_train.astype('float32') / 255\n",
    "X_test = X_test.astype('float32') / 255"
   ]
  },
  {
   "cell_type": "code",
   "execution_count": 6,
   "metadata": {
    "scrolled": true
   },
   "outputs": [
    {
     "name": "stdout",
     "output_type": "stream",
     "text": [
      "resizing training set images:\n",
      "image 0 out of 42000\n"
     ]
    },
    {
     "name": "stderr",
     "output_type": "stream",
     "text": [
      "/home/hboschirolli/anaconda2/lib/python2.7/site-packages/skimage/transform/_warps.py:84: UserWarning: The default mode, 'constant', will be changed to 'reflect' in skimage 0.15.\n",
      "  warn(\"The default mode, 'constant', will be changed to 'reflect' in \"\n"
     ]
    },
    {
     "name": "stdout",
     "output_type": "stream",
     "text": [
      "image 1000 out of 42000\n",
      "image 2000 out of 42000\n",
      "image 3000 out of 42000\n",
      "image 4000 out of 42000\n",
      "image 5000 out of 42000\n",
      "image 6000 out of 42000\n",
      "image 7000 out of 42000\n",
      "image 8000 out of 42000\n",
      "image 9000 out of 42000\n",
      "image 10000 out of 42000\n",
      "image 11000 out of 42000\n",
      "image 12000 out of 42000\n",
      "image 13000 out of 42000\n",
      "image 14000 out of 42000\n",
      "image 15000 out of 42000\n",
      "image 16000 out of 42000\n",
      "image 17000 out of 42000\n",
      "image 18000 out of 42000\n",
      "image 19000 out of 42000\n",
      "image 20000 out of 42000\n",
      "image 21000 out of 42000\n",
      "image 22000 out of 42000\n",
      "image 23000 out of 42000\n",
      "image 24000 out of 42000\n",
      "image 25000 out of 42000\n",
      "image 26000 out of 42000\n",
      "image 27000 out of 42000\n",
      "image 28000 out of 42000\n",
      "image 29000 out of 42000\n",
      "image 30000 out of 42000\n",
      "image 31000 out of 42000\n",
      "image 32000 out of 42000\n",
      "image 33000 out of 42000\n",
      "image 34000 out of 42000\n",
      "image 35000 out of 42000\n",
      "image 36000 out of 42000\n",
      "image 37000 out of 42000\n",
      "image 38000 out of 42000\n",
      "image 39000 out of 42000\n",
      "image 40000 out of 42000\n",
      "image 41000 out of 42000\n",
      "resizing test set images:\n",
      "image 0 out of 28000\n",
      "image 1000 out of 28000\n",
      "image 2000 out of 28000\n",
      "image 3000 out of 28000\n",
      "image 4000 out of 28000\n",
      "image 5000 out of 28000\n",
      "image 6000 out of 28000\n",
      "image 7000 out of 28000\n",
      "image 8000 out of 28000\n",
      "image 9000 out of 28000\n",
      "image 10000 out of 28000\n",
      "image 11000 out of 28000\n",
      "image 12000 out of 28000\n",
      "image 13000 out of 28000\n",
      "image 14000 out of 28000\n",
      "image 15000 out of 28000\n",
      "image 16000 out of 28000\n",
      "image 17000 out of 28000\n",
      "image 18000 out of 28000\n",
      "image 19000 out of 28000\n",
      "image 20000 out of 28000\n",
      "image 21000 out of 28000\n",
      "image 22000 out of 28000\n",
      "image 23000 out of 28000\n",
      "image 24000 out of 28000\n",
      "image 25000 out of 28000\n",
      "image 26000 out of 28000\n",
      "image 27000 out of 28000\n"
     ]
    }
   ],
   "source": [
    "new_X_train = np.empty((X_train.shape[0], 48, 48))\n",
    "print 'resizing training set images:'\n",
    "for i in range(X_train.shape[0]):\n",
    "    if (i % 1000 == 0):\n",
    "        print 'image ' + str(i) + ' out of ' + str(X_train.shape[0])\n",
    "    new_X_train[i] = resize(X_train[i], (48, 48))\n",
    "\n",
    "X_train = new_X_train\n",
    "del(new_X_train)\n",
    "new_X_test = np.empty((X_test.shape[0], 48, 48))    \n",
    "print 'resizing test set images:'\n",
    "for i in range(X_test.shape[0]):\n",
    "    if (i % 1000 == 0):\n",
    "        print 'image ' + str(i) + ' out of ' + str(X_test.shape[0])\n",
    "    new_X_test[i] = resize(X_test[i], (48, 48))\n",
    "X_test = new_X_test\n",
    "del(new_X_test)\n",
    "X_train = grey2rgb(X_train)\n",
    "X_test = grey2rgb(X_test)"
   ]
  },
  {
   "cell_type": "code",
   "execution_count": 7,
   "metadata": {},
   "outputs": [
    {
     "name": "stdout",
     "output_type": "stream",
     "text": [
      "(42000, 48, 48, 3)\n",
      "(28000, 48, 48, 3)\n"
     ]
    }
   ],
   "source": [
    "print X_train.shape\n",
    "print X_test.shape"
   ]
  },
  {
   "cell_type": "code",
   "execution_count": 8,
   "metadata": {
    "collapsed": true
   },
   "outputs": [],
   "source": [
    "X_train, X_valid, Y_train, Y_valid = train_test_split(X_train, Y_train, test_size=0.2)"
   ]
  },
  {
   "cell_type": "code",
   "execution_count": 17,
   "metadata": {},
   "outputs": [
    {
     "name": "stdout",
     "output_type": "stream",
     "text": [
      "Label: 9\n"
     ]
    },
    {
     "data": {
      "image/png": "[encoded data removed]",
      "text/plain": [
       "<matplotlib.figure.Figure at 0x7f6001c60a10>"
      ]
     },
     "metadata": {},
     "output_type": "display_data"
    }
   ],
   "source": [
    "rng = randint(1, X_train.shape[0])\n",
    "plt.imshow(X_train[rng], cmap='gray')\n",
    "print \"Label:\", Y_train[rng]"
   ]
  },
  {
   "cell_type": "code",
   "execution_count": 20,
   "metadata": {},
   "outputs": [
    {
     "name": "stdout",
     "output_type": "stream",
     "text": [
      "Label: 9\n"
     ]
    },
    {
     "data": {
      "image/png": "[encoded data removed]",
      "text/plain": [
       "<matplotlib.figure.Figure at 0x7f6001a65150>"
      ]
     },
     "metadata": {},
     "output_type": "display_data"
    }
   ],
   "source": [
    "rng = randint(1, X_valid.shape[0])\n",
    "plt.imshow(X_valid[rng], cmap='gray')\n",
    "print \"Label:\", Y_valid[rng]"
   ]
  },
  {
   "cell_type": "code",
   "execution_count": 23,
   "metadata": {},
   "outputs": [
    {
     "data": {
      "text/plain": [
       "<matplotlib.image.AxesImage at 0x7f6001b31a50>"
      ]
     },
     "execution_count": 23,
     "metadata": {},
     "output_type": "execute_result"
    },
    {
     "data": {
      "image/png": "[encoded data removed]",
      "text/plain": [
       "<matplotlib.figure.Figure at 0x7f6001a89090>"
      ]
     },
     "metadata": {},
     "output_type": "display_data"
    }
   ],
   "source": [
    "rng = randint(1, X_test.shape[0])\n",
    "plt.imshow(X_test[rng], cmap='gray')"
   ]
  },
  {
   "cell_type": "code",
   "execution_count": null,
   "metadata": {
    "collapsed": true
   },
   "outputs": [],
   "source": [
    "np.save('X_train.npy', X_train)\n",
    "np.save('Y_train.npy', Y_train)\n",
    "np.save('X_valid.npy', X_valid)\n",
    "np.save('Y_valid.npy', Y_valid)\n",
    "np.save('X_test.npy', X_test)"
   ]
  }
 ],
 "metadata": {
  "kernelspec": {
   "display_name": "Python 2",
   "language": "python",
   "name": "python2"
  },
  "language_info": {
   "codemirror_mode": {
    "name": "ipython",
    "version": 2
   },
   "file_extension": ".py",
   "mimetype": "text/x-python",
   "name": "python",
   "nbconvert_exporter": "python",
   "pygments_lexer": "ipython2",
   "version": "2.7.13"
  }
 },
 "nbformat": 4,
 "nbformat_minor": 2
}
